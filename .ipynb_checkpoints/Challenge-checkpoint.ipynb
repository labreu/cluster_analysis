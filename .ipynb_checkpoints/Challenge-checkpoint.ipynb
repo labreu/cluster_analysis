{
 "cells": [
  {
   "cell_type": "code",
   "execution_count": 8,
   "metadata": {
    "collapsed": true
   },
   "outputs": [],
   "source": [
    "from classes import Graph, Node\n",
    "import pandas as pd\n",
    "\n",
    "def closeness():\n",
    "    if g.edges_count >= 2:\n",
    "        farness = []\n",
    "\n",
    "        # Calculate farness for all vertices\n",
    "        for node in g.graph.keys():\n",
    "            g.reset_colors_distances()\n",
    "            g.bfs(node)\n",
    "            farness.append((node, sum(g.get_distances())))\n",
    "\n",
    "        df = pd.DataFrame(farness)\n",
    "        df.columns = ['Node', 'Farness']\n",
    "        df['Closeness'] = 1/df['Farness']\n",
    "        table = df.sort_values('Closeness', ascending=False)\n",
    "\n",
    "        conns = ['{} - {}'.format(key, g.graph[key].connections) for key in g.graph.keys()]\n",
    "        conns = pd.DataFrame(conns)\n",
    "        return table, conns\n",
    "    else:\n",
    "        print('Adicione vertices e edges')\n",
    "\n",
    "def clean():\n",
    "    print('cleaning..')\n",
    "    g.graph = {}\n",
    "    g.edges_count = 0\n",
    "    g.target_num = 0\n",
    "\n",
    "def add_vertice(name):\n",
    "    g.add_vert(Node(str(name)))\n",
    "    print'Vertice added:', name\n",
    "\n",
    "def add_connection(name, name2):\n",
    "    print('Connection added: {} - {}'.format(name, name2))\n",
    "    g.add_edge(str(name), str(name2))\n",
    "\n",
    "def run_edgesdat():\n",
    "    with open('edges.dat', 'r') as f:\n",
    "        edges = [line.replace('\\n', '') for line in f]\n",
    "\n",
    "    # Create vertices\n",
    "    for i in range(100):\n",
    "        g.add_vert(Node(str(i)))\n",
    "\n",
    "    # Create edges\n",
    "    for row in edges:\n",
    "        v1, v2 = row.split(' ')\n",
    "        g.add_edge(v1, v2)\n",
    "\n",
    "# Create graph structure\n",
    "g = Graph()\n"
   ]
  },
  {
   "cell_type": "code",
   "execution_count": 9,
   "metadata": {
    "collapsed": false
   },
   "outputs": [
    {
     "name": "stdout",
     "output_type": "stream",
     "text": [
      "Vertice added: 1\n",
      "Vertice added: 2\n",
      "Vertice added: 3\n",
      "Vertice added: 4\n",
      "Connection added: 2 - 3\n",
      "Connection added: 1 - 3\n",
      "Connection added: 4 - 3\n"
     ]
    }
   ],
   "source": [
    "add_vertice(1)\n",
    "add_vertice(2)\n",
    "add_vertice(3)\n",
    "add_vertice(4)\n",
    "\n",
    "add_connection(2,3)\n",
    "add_connection(1,3)\n",
    "add_connection(4,3)"
   ]
  },
  {
   "cell_type": "code",
   "execution_count": 10,
   "metadata": {
    "collapsed": false
   },
   "outputs": [],
   "source": [
    "closeness_df, connections = closeness()"
   ]
  },
  {
   "cell_type": "code",
   "execution_count": 11,
   "metadata": {
    "collapsed": false
   },
   "outputs": [
    {
     "data": {
      "text/html": [
       "<div>\n",
       "<table border=\"1\" class=\"dataframe\">\n",
       "  <thead>\n",
       "    <tr style=\"text-align: right;\">\n",
       "      <th></th>\n",
       "      <th>Node</th>\n",
       "      <th>Farness</th>\n",
       "      <th>Closeness</th>\n",
       "    </tr>\n",
       "  </thead>\n",
       "  <tbody>\n",
       "    <tr>\n",
       "      <th>1</th>\n",
       "      <td>3</td>\n",
       "      <td>3</td>\n",
       "      <td>0.333333</td>\n",
       "    </tr>\n",
       "    <tr>\n",
       "      <th>0</th>\n",
       "      <td>1</td>\n",
       "      <td>5</td>\n",
       "      <td>0.200000</td>\n",
       "    </tr>\n",
       "    <tr>\n",
       "      <th>2</th>\n",
       "      <td>2</td>\n",
       "      <td>5</td>\n",
       "      <td>0.200000</td>\n",
       "    </tr>\n",
       "    <tr>\n",
       "      <th>3</th>\n",
       "      <td>4</td>\n",
       "      <td>5</td>\n",
       "      <td>0.200000</td>\n",
       "    </tr>\n",
       "  </tbody>\n",
       "</table>\n",
       "</div>"
      ],
      "text/plain": [
       "  Node  Farness  Closeness\n",
       "1    3        3   0.333333\n",
       "0    1        5   0.200000\n",
       "2    2        5   0.200000\n",
       "3    4        5   0.200000"
      ]
     },
     "execution_count": 11,
     "metadata": {},
     "output_type": "execute_result"
    }
   ],
   "source": [
    "closeness_df"
   ]
  },
  {
   "cell_type": "code",
   "execution_count": 12,
   "metadata": {
    "collapsed": false
   },
   "outputs": [
    {
     "data": {
      "text/html": [
       "<div>\n",
       "<table border=\"1\" class=\"dataframe\">\n",
       "  <thead>\n",
       "    <tr style=\"text-align: right;\">\n",
       "      <th></th>\n",
       "      <th>0</th>\n",
       "    </tr>\n",
       "  </thead>\n",
       "  <tbody>\n",
       "    <tr>\n",
       "      <th>0</th>\n",
       "      <td>1 - ['3']</td>\n",
       "    </tr>\n",
       "    <tr>\n",
       "      <th>1</th>\n",
       "      <td>3 - ['2', '1', '4']</td>\n",
       "    </tr>\n",
       "    <tr>\n",
       "      <th>2</th>\n",
       "      <td>2 - ['3']</td>\n",
       "    </tr>\n",
       "    <tr>\n",
       "      <th>3</th>\n",
       "      <td>4 - ['3']</td>\n",
       "    </tr>\n",
       "  </tbody>\n",
       "</table>\n",
       "</div>"
      ],
      "text/plain": [
       "                     0\n",
       "0            1 - ['3']\n",
       "1  3 - ['2', '1', '4']\n",
       "2            2 - ['3']\n",
       "3            4 - ['3']"
      ]
     },
     "execution_count": 12,
     "metadata": {},
     "output_type": "execute_result"
    }
   ],
   "source": [
    "connections"
   ]
  },
  {
   "cell_type": "code",
   "execution_count": 13,
   "metadata": {
    "collapsed": false
   },
   "outputs": [],
   "source": [
    "run_edgesdat()\n",
    "\n",
    "closeness_df, connections = closeness()"
   ]
  },
  {
   "cell_type": "markdown",
   "metadata": {},
   "source": [
    "# top closeness"
   ]
  },
  {
   "cell_type": "code",
   "execution_count": 15,
   "metadata": {
    "collapsed": false,
    "scrolled": true
   },
   "outputs": [
    {
     "data": {
      "text/html": [
       "<div>\n",
       "<table border=\"1\" class=\"dataframe\">\n",
       "  <thead>\n",
       "    <tr style=\"text-align: right;\">\n",
       "      <th></th>\n",
       "      <th>Node</th>\n",
       "      <th>Farness</th>\n",
       "      <th>Closeness</th>\n",
       "    </tr>\n",
       "  </thead>\n",
       "  <tbody>\n",
       "    <tr>\n",
       "      <th>81</th>\n",
       "      <td>44</td>\n",
       "      <td>167</td>\n",
       "      <td>0.005988</td>\n",
       "    </tr>\n",
       "    <tr>\n",
       "      <th>23</th>\n",
       "      <td>88</td>\n",
       "      <td>169</td>\n",
       "      <td>0.005917</td>\n",
       "    </tr>\n",
       "    <tr>\n",
       "      <th>37</th>\n",
       "      <td>33</td>\n",
       "      <td>170</td>\n",
       "      <td>0.005882</td>\n",
       "    </tr>\n",
       "    <tr>\n",
       "      <th>93</th>\n",
       "      <td>74</td>\n",
       "      <td>171</td>\n",
       "      <td>0.005848</td>\n",
       "    </tr>\n",
       "    <tr>\n",
       "      <th>19</th>\n",
       "      <td>51</td>\n",
       "      <td>172</td>\n",
       "      <td>0.005814</td>\n",
       "    </tr>\n",
       "  </tbody>\n",
       "</table>\n",
       "</div>"
      ],
      "text/plain": [
       "   Node  Farness  Closeness\n",
       "81   44      167   0.005988\n",
       "23   88      169   0.005917\n",
       "37   33      170   0.005882\n",
       "93   74      171   0.005848\n",
       "19   51      172   0.005814"
      ]
     },
     "execution_count": 15,
     "metadata": {},
     "output_type": "execute_result"
    }
   ],
   "source": [
    "closeness_df.head()"
   ]
  },
  {
   "cell_type": "code",
   "execution_count": 16,
   "metadata": {
    "collapsed": false
   },
   "outputs": [
    {
     "name": "stdout",
     "output_type": "stream",
     "text": [
      "Connection added: 88 - 33\n",
      "Connection added: 88 - 74\n",
      "Connection added: 88 - 51\n"
     ]
    }
   ],
   "source": [
    "add_connection(88,33)\n",
    "add_connection(88,74)\n",
    "add_connection(88,51)"
   ]
  },
  {
   "cell_type": "markdown",
   "metadata": {},
   "source": [
    "# 88 agora está no topo"
   ]
  },
  {
   "cell_type": "code",
   "execution_count": 17,
   "metadata": {
    "collapsed": false
   },
   "outputs": [
    {
     "data": {
      "text/html": [
       "<div>\n",
       "<table border=\"1\" class=\"dataframe\">\n",
       "  <thead>\n",
       "    <tr style=\"text-align: right;\">\n",
       "      <th></th>\n",
       "      <th>Node</th>\n",
       "      <th>Farness</th>\n",
       "      <th>Closeness</th>\n",
       "    </tr>\n",
       "  </thead>\n",
       "  <tbody>\n",
       "    <tr>\n",
       "      <th>23</th>\n",
       "      <td>88</td>\n",
       "      <td>166</td>\n",
       "      <td>0.006024</td>\n",
       "    </tr>\n",
       "    <tr>\n",
       "      <th>81</th>\n",
       "      <td>44</td>\n",
       "      <td>167</td>\n",
       "      <td>0.005988</td>\n",
       "    </tr>\n",
       "    <tr>\n",
       "      <th>37</th>\n",
       "      <td>33</td>\n",
       "      <td>169</td>\n",
       "      <td>0.005917</td>\n",
       "    </tr>\n",
       "    <tr>\n",
       "      <th>93</th>\n",
       "      <td>74</td>\n",
       "      <td>170</td>\n",
       "      <td>0.005882</td>\n",
       "    </tr>\n",
       "    <tr>\n",
       "      <th>19</th>\n",
       "      <td>51</td>\n",
       "      <td>171</td>\n",
       "      <td>0.005848</td>\n",
       "    </tr>\n",
       "  </tbody>\n",
       "</table>\n",
       "</div>"
      ],
      "text/plain": [
       "   Node  Farness  Closeness\n",
       "23   88      166   0.006024\n",
       "81   44      167   0.005988\n",
       "37   33      169   0.005917\n",
       "93   74      170   0.005882\n",
       "19   51      171   0.005848"
      ]
     },
     "execution_count": 17,
     "metadata": {},
     "output_type": "execute_result"
    }
   ],
   "source": [
    "closeness_df, connections = closeness()\n",
    "closeness_df.head()"
   ]
  },
  {
   "cell_type": "code",
   "execution_count": null,
   "metadata": {
    "collapsed": true
   },
   "outputs": [],
   "source": []
  }
 ],
 "metadata": {
  "anaconda-cloud": {},
  "kernelspec": {
   "display_name": "Python [Root]",
   "language": "python",
   "name": "Python [Root]"
  },
  "language_info": {
   "codemirror_mode": {
    "name": "ipython",
    "version": 2
   },
   "file_extension": ".py",
   "mimetype": "text/x-python",
   "name": "python",
   "nbconvert_exporter": "python",
   "pygments_lexer": "ipython2",
   "version": "2.7.12"
  }
 },
 "nbformat": 4,
 "nbformat_minor": 0
}
