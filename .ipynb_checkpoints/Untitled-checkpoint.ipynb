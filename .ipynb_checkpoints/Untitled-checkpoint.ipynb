{
 "cells": [
  {
   "cell_type": "code",
   "execution_count": null,
   "metadata": {
    "collapsed": true
   },
   "outputs": [],
   "source": [
    "import pandas as pd\n",
    "\n",
    "with open('edges.dat', 'r') as f:\n",
    "    edges = [line.replace('\\n', '') for line in f]\n",
    "\n",
    "g = Graph()\n",
    "\n",
    "# Create vertices\n",
    "for i in range(100):\n",
    "    g.add_vert(Node(str(i)))\n",
    "\n",
    "# Create edges\n",
    "for row in edges:\n",
    "    v1, v2 = row.split(' ')\n",
    "    g.add_edge(v1, v2)\n",
    "\n",
    "farness = []\n",
    "\n",
    "# Calculate farness for all vertices\n",
    "for node in range(100):\n",
    "    g.reset_colors_distances()\n",
    "    g.bfs(node)\n",
    "    farness.append((node, sum(g.get_distances())))\n",
    "\n",
    "df = pd.DataFrame(farness)\n",
    "df.columns = ['Node', 'Farness']\n",
    "df['Closeness'] = 1/df['Farness']\n",
    "df.sort_values('Closeness', ascending=False)"
   ]
  },
  {
   "cell_type": "code",
   "execution_count": 70,
   "metadata": {
    "collapsed": false
   },
   "outputs": [],
   "source": [
    "class Node:\n",
    "    def __init__(self, name):\n",
    "        self.name = name\n",
    "        self.connections = []\n",
    "        self.color = 'black'\n",
    "        self.distance = 999\n",
    "    \n",
    "    def add_conn(self, v):\n",
    "        if v not in self.connections:\n",
    "            self.connections.append(v)\n",
    "\n",
    "class Graph:\n",
    "    def __init__(self):\n",
    "        self.graph = {}\n",
    "        \n",
    "    def add_vert(self, v):\n",
    "        self.graph[v.name] = v\n",
    "        \n",
    "    def add_edge(self, v1, v2):\n",
    "        error_msg = 'Error, vertice {} not present'\n",
    "        \n",
    "        if v1 in self.graph.keys():\n",
    "            self.graph[v1].connections.append(v2)\n",
    "        else:\n",
    "            print error_msg.format(v1)\n",
    "\n",
    "        if v2 in self.graph.keys():\n",
    "            self.graph[v2].connections.append(v1)\n",
    "        else:\n",
    "            print error_msg.format(v2)\n",
    "            \n",
    "    def print_graph(self, nodes=False):\n",
    "        for key in sorted(list(self.graph.keys())):\n",
    "            if not nodes:\n",
    "                print('{} --{}-- {}'.format(key, self.graph[key].distance, self.target_num))\n",
    "            else:\n",
    "                print('{} {} {}'.format(key, self.graph[key].connections, self.graph[key].distance))\n",
    "       \n",
    "    def bfs(self, target_num):\n",
    "        self.target_num = target_num\n",
    "        fila = []\n",
    "        target = g.graph[str(target_num)]\n",
    "        target.color = 'red'\n",
    "        target.distance = 0\n",
    "\n",
    "        for v in target.connections:\n",
    "            node = g.graph[v]\n",
    "            # print node.name\n",
    "            node.distance = target.distance + 1\n",
    "            fila.append(node)\n",
    "\n",
    "        while len(fila) > 0:\n",
    "            node = fila.pop(0)\n",
    "            node.color = 'red'\n",
    "\n",
    "            for v in node.connections:\n",
    "                child = g.graph[v]\n",
    "                if child.color == 'black':\n",
    "                    # print child.name\n",
    "                    fila.append(child)\n",
    "\n",
    "                    if child.distance > node.distance + 1:\n",
    "                        child.distance = node.distance + 1\n",
    "\n",
    "    def reset_colors_distances(self):\n",
    "        for key in self.graph.keys():\n",
    "            self.graph[key].color = 'black'\n",
    "            self.graph[key].distance = 999\n",
    "    \n",
    "    def get_distances(self):\n",
    "        return [self.graph[key].distance for key in self.graph.keys()]"
   ]
  },
  {
   "cell_type": "code",
   "execution_count": 71,
   "metadata": {
    "collapsed": false
   },
   "outputs": [],
   "source": []
  },
  {
   "cell_type": "code",
   "execution_count": null,
   "metadata": {
    "collapsed": true
   },
   "outputs": [],
   "source": []
  }
 ],
 "metadata": {
  "anaconda-cloud": {},
  "kernelspec": {
   "display_name": "Python [Root]",
   "language": "python",
   "name": "Python [Root]"
  },
  "language_info": {
   "codemirror_mode": {
    "name": "ipython",
    "version": 2
   },
   "file_extension": ".py",
   "mimetype": "text/x-python",
   "name": "python",
   "nbconvert_exporter": "python",
   "pygments_lexer": "ipython2",
   "version": "2.7.12"
  }
 },
 "nbformat": 4,
 "nbformat_minor": 0
}
